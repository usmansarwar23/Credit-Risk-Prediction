{
 "cells": [
  {
   "cell_type": "code",
   "execution_count": 2,
   "metadata": {},
   "outputs": [],
   "source": [
    "#importing the required packages \n",
    "import pandas as pd\n",
    "import numpy as np\n",
    "\n",
    "from sklearn.model_selection import train_test_split\n",
    "from sklearn.metrics import classification_report\n",
    "from sklearn.metrics import roc_auc_score\n",
    "from sklearn import preprocessing\n",
    "\n",
    "from xgboost import XGBClassifier\n"
   ]
  },
  {
   "cell_type": "code",
   "execution_count": 3,
   "metadata": {},
   "outputs": [],
   "source": [
    "x=pd.read_csv('x.csv')\n",
    "y=pd.read_csv('y.csv')"
   ]
  },
  {
   "cell_type": "code",
   "execution_count": 4,
   "metadata": {},
   "outputs": [
    {
     "data": {
      "text/plain": [
       "(565372, 146)"
      ]
     },
     "execution_count": 4,
     "metadata": {},
     "output_type": "execute_result"
    }
   ],
   "source": [
    "x.shape"
   ]
  },
  {
   "cell_type": "code",
   "execution_count": 4,
   "metadata": {},
   "outputs": [],
   "source": [
    "#splitting data into test train\n",
    "X_train, X_test, y_train, y_test = train_test_split(x, y, test_size=0.20)\n",
    "X_train, X_val, y_train, y_val  = train_test_split(X_train, y_train, test_size=0.20) # 0.25 x 0.8 = 0.2"
   ]
  },
  {
   "cell_type": "code",
   "execution_count": 5,
   "metadata": {},
   "outputs": [],
   "source": [
    "#Min-max Data normalization\n",
    "min_max_scaler = preprocessing.MinMaxScaler()\n",
    "X_train_scale = min_max_scaler.fit_transform(X_train)\n",
    "X_val_scale = min_max_scaler.fit_transform(X_val)\n",
    "X_test_scale = min_max_scaler.fit_transform(X_test)"
   ]
  },
  {
   "cell_type": "markdown",
   "metadata": {},
   "source": [
    "# Modeling \n",
    "\n",
    "- GBM Base Model\n"
   ]
  },
  {
   "cell_type": "code",
   "execution_count": 6,
   "metadata": {
    "scrolled": true
   },
   "outputs": [
    {
     "name": "stderr",
     "output_type": "stream",
     "text": [
      "D:\\conda\\lib\\site-packages\\sklearn\\preprocessing\\_label.py:235: DataConversionWarning: A column-vector y was passed when a 1d array was expected. Please change the shape of y to (n_samples, ), for example using ravel().\n",
      "  y = column_or_1d(y, warn=True)\n",
      "D:\\conda\\lib\\site-packages\\sklearn\\preprocessing\\_label.py:268: DataConversionWarning: A column-vector y was passed when a 1d array was expected. Please change the shape of y to (n_samples, ), for example using ravel().\n",
      "  y = column_or_1d(y, warn=True)\n"
     ]
    },
    {
     "name": "stdout",
     "output_type": "stream",
     "text": [
      "[0]\tvalidation_0-logloss:0.68830\n",
      "Will train until validation_0-logloss hasn't improved in 3 rounds.\n",
      "[1]\tvalidation_0-logloss:0.68335\n",
      "[2]\tvalidation_0-logloss:0.67881\n",
      "[3]\tvalidation_0-logloss:0.67458\n",
      "[4]\tvalidation_0-logloss:0.67018\n",
      "[5]\tvalidation_0-logloss:0.66639\n",
      "[6]\tvalidation_0-logloss:0.66284\n",
      "[7]\tvalidation_0-logloss:0.65930\n",
      "[8]\tvalidation_0-logloss:0.65556\n",
      "[9]\tvalidation_0-logloss:0.65229\n",
      "[10]\tvalidation_0-logloss:0.64946\n",
      "[11]\tvalidation_0-logloss:0.64644\n",
      "[12]\tvalidation_0-logloss:0.64281\n",
      "[13]\tvalidation_0-logloss:0.63986\n",
      "[14]\tvalidation_0-logloss:0.63708\n",
      "[15]\tvalidation_0-logloss:0.63462\n",
      "[16]\tvalidation_0-logloss:0.63144\n",
      "[17]\tvalidation_0-logloss:0.62923\n",
      "[18]\tvalidation_0-logloss:0.62721\n",
      "[19]\tvalidation_0-logloss:0.62426\n",
      "[20]\tvalidation_0-logloss:0.62178\n",
      "[21]\tvalidation_0-logloss:0.61938\n",
      "[22]\tvalidation_0-logloss:0.61747\n",
      "[23]\tvalidation_0-logloss:0.61491\n",
      "[24]\tvalidation_0-logloss:0.61263\n",
      "[25]\tvalidation_0-logloss:0.61091\n",
      "[26]\tvalidation_0-logloss:0.60795\n",
      "[27]\tvalidation_0-logloss:0.60566\n",
      "[28]\tvalidation_0-logloss:0.60415\n",
      "[29]\tvalidation_0-logloss:0.60209\n",
      "[30]\tvalidation_0-logloss:0.60045\n",
      "[31]\tvalidation_0-logloss:0.59774\n",
      "[32]\tvalidation_0-logloss:0.59591\n",
      "[33]\tvalidation_0-logloss:0.59335\n",
      "[34]\tvalidation_0-logloss:0.59171\n",
      "[35]\tvalidation_0-logloss:0.58908\n",
      "[36]\tvalidation_0-logloss:0.58684\n",
      "[37]\tvalidation_0-logloss:0.58447\n",
      "[38]\tvalidation_0-logloss:0.58244\n",
      "[39]\tvalidation_0-logloss:0.58020\n",
      "[40]\tvalidation_0-logloss:0.57847\n",
      "[41]\tvalidation_0-logloss:0.57607\n",
      "[42]\tvalidation_0-logloss:0.57393\n",
      "[43]\tvalidation_0-logloss:0.57228\n",
      "[44]\tvalidation_0-logloss:0.57019\n",
      "[45]\tvalidation_0-logloss:0.56766\n",
      "[46]\tvalidation_0-logloss:0.56550\n",
      "[47]\tvalidation_0-logloss:0.56309\n",
      "[48]\tvalidation_0-logloss:0.56133\n",
      "[49]\tvalidation_0-logloss:0.56012\n",
      "[50]\tvalidation_0-logloss:0.55796\n",
      "[51]\tvalidation_0-logloss:0.55658\n",
      "[52]\tvalidation_0-logloss:0.55531\n",
      "[53]\tvalidation_0-logloss:0.55365\n",
      "[54]\tvalidation_0-logloss:0.55155\n",
      "[55]\tvalidation_0-logloss:0.54967\n",
      "[56]\tvalidation_0-logloss:0.54763\n",
      "[57]\tvalidation_0-logloss:0.54582\n",
      "[58]\tvalidation_0-logloss:0.54349\n",
      "[59]\tvalidation_0-logloss:0.54132\n",
      "[60]\tvalidation_0-logloss:0.53928\n",
      "[61]\tvalidation_0-logloss:0.53831\n",
      "[62]\tvalidation_0-logloss:0.53663\n",
      "[63]\tvalidation_0-logloss:0.53519\n",
      "[64]\tvalidation_0-logloss:0.53346\n",
      "[65]\tvalidation_0-logloss:0.53122\n",
      "[66]\tvalidation_0-logloss:0.52990\n",
      "[67]\tvalidation_0-logloss:0.52839\n",
      "[68]\tvalidation_0-logloss:0.52657\n",
      "[69]\tvalidation_0-logloss:0.52464\n",
      "[70]\tvalidation_0-logloss:0.52272\n",
      "[71]\tvalidation_0-logloss:0.52038\n",
      "[72]\tvalidation_0-logloss:0.51830\n",
      "[73]\tvalidation_0-logloss:0.51721\n",
      "[74]\tvalidation_0-logloss:0.51546\n",
      "[75]\tvalidation_0-logloss:0.51357\n",
      "[76]\tvalidation_0-logloss:0.51201\n",
      "[77]\tvalidation_0-logloss:0.51060\n",
      "[78]\tvalidation_0-logloss:0.50815\n",
      "[79]\tvalidation_0-logloss:0.50650\n",
      "[80]\tvalidation_0-logloss:0.50691\n",
      "[81]\tvalidation_0-logloss:0.50519\n",
      "[82]\tvalidation_0-logloss:0.50389\n",
      "[83]\tvalidation_0-logloss:0.50243\n",
      "[84]\tvalidation_0-logloss:0.50222\n",
      "[85]\tvalidation_0-logloss:0.49976\n",
      "[86]\tvalidation_0-logloss:0.49785\n",
      "[87]\tvalidation_0-logloss:0.49795\n",
      "[88]\tvalidation_0-logloss:0.49593\n",
      "[89]\tvalidation_0-logloss:0.49365\n",
      "[90]\tvalidation_0-logloss:0.49219\n",
      "[91]\tvalidation_0-logloss:0.48990\n",
      "[92]\tvalidation_0-logloss:0.48812\n",
      "[93]\tvalidation_0-logloss:0.48689\n",
      "[94]\tvalidation_0-logloss:0.48559\n",
      "[95]\tvalidation_0-logloss:0.48372\n",
      "[96]\tvalidation_0-logloss:0.48234\n",
      "[97]\tvalidation_0-logloss:0.48103\n",
      "[98]\tvalidation_0-logloss:0.47903\n",
      "[99]\tvalidation_0-logloss:0.47713\n",
      "[100]\tvalidation_0-logloss:0.47714\n",
      "[101]\tvalidation_0-logloss:0.47490\n",
      "[102]\tvalidation_0-logloss:0.47573\n",
      "[103]\tvalidation_0-logloss:0.47389\n",
      "[104]\tvalidation_0-logloss:0.47249\n",
      "[105]\tvalidation_0-logloss:0.47062\n",
      "[106]\tvalidation_0-logloss:0.46832\n",
      "[107]\tvalidation_0-logloss:0.46678\n",
      "[108]\tvalidation_0-logloss:0.46580\n",
      "[109]\tvalidation_0-logloss:0.46422\n",
      "[110]\tvalidation_0-logloss:0.46236\n",
      "[111]\tvalidation_0-logloss:0.46120\n",
      "[112]\tvalidation_0-logloss:0.46172\n",
      "[113]\tvalidation_0-logloss:0.46271\n",
      "[114]\tvalidation_0-logloss:0.46085\n",
      "[115]\tvalidation_0-logloss:0.45939\n",
      "[116]\tvalidation_0-logloss:0.45969\n",
      "[117]\tvalidation_0-logloss:0.45958\n",
      "[118]\tvalidation_0-logloss:0.45762\n",
      "[119]\tvalidation_0-logloss:0.45586\n",
      "[120]\tvalidation_0-logloss:0.45446\n",
      "[121]\tvalidation_0-logloss:0.45268\n",
      "[122]\tvalidation_0-logloss:0.45127\n",
      "[123]\tvalidation_0-logloss:0.44954\n",
      "[124]\tvalidation_0-logloss:0.44996\n",
      "[125]\tvalidation_0-logloss:0.44807\n",
      "[126]\tvalidation_0-logloss:0.44616\n",
      "[127]\tvalidation_0-logloss:0.44449\n",
      "[128]\tvalidation_0-logloss:0.44501\n",
      "[129]\tvalidation_0-logloss:0.44340\n",
      "[130]\tvalidation_0-logloss:0.44200\n",
      "[131]\tvalidation_0-logloss:0.43979\n",
      "[132]\tvalidation_0-logloss:0.43849\n",
      "[133]\tvalidation_0-logloss:0.43698\n",
      "[134]\tvalidation_0-logloss:0.43632\n",
      "[135]\tvalidation_0-logloss:0.43511\n",
      "[136]\tvalidation_0-logloss:0.43366\n",
      "[137]\tvalidation_0-logloss:0.43426\n",
      "[138]\tvalidation_0-logloss:0.43553\n",
      "[139]\tvalidation_0-logloss:0.43350\n",
      "[140]\tvalidation_0-logloss:0.43483\n",
      "[141]\tvalidation_0-logloss:0.43261\n",
      "[142]\tvalidation_0-logloss:0.43120\n",
      "[143]\tvalidation_0-logloss:0.43001\n",
      "[144]\tvalidation_0-logloss:0.42859\n",
      "[145]\tvalidation_0-logloss:0.42679\n",
      "[146]\tvalidation_0-logloss:0.42535\n",
      "[147]\tvalidation_0-logloss:0.42356\n",
      "[148]\tvalidation_0-logloss:0.42206\n",
      "[149]\tvalidation_0-logloss:0.42021\n",
      "[150]\tvalidation_0-logloss:0.41834\n",
      "[151]\tvalidation_0-logloss:0.41677\n",
      "[152]\tvalidation_0-logloss:0.41815\n",
      "[153]\tvalidation_0-logloss:0.41733\n",
      "[154]\tvalidation_0-logloss:0.41578\n",
      "[155]\tvalidation_0-logloss:0.41477\n",
      "[156]\tvalidation_0-logloss:0.41369\n",
      "[157]\tvalidation_0-logloss:0.41232\n",
      "[158]\tvalidation_0-logloss:0.41043\n",
      "[159]\tvalidation_0-logloss:0.40929\n",
      "[160]\tvalidation_0-logloss:0.40887\n",
      "[161]\tvalidation_0-logloss:0.40746\n",
      "[162]\tvalidation_0-logloss:0.40640\n",
      "[163]\tvalidation_0-logloss:0.40531\n",
      "[164]\tvalidation_0-logloss:0.40683\n",
      "[165]\tvalidation_0-logloss:0.40498\n",
      "[166]\tvalidation_0-logloss:0.40558\n",
      "[167]\tvalidation_0-logloss:0.40433\n",
      "[168]\tvalidation_0-logloss:0.40311\n",
      "[169]\tvalidation_0-logloss:0.40172\n",
      "[170]\tvalidation_0-logloss:0.40084\n",
      "[171]\tvalidation_0-logloss:0.39947\n",
      "[172]\tvalidation_0-logloss:0.39807\n",
      "[173]\tvalidation_0-logloss:0.39659\n",
      "[174]\tvalidation_0-logloss:0.39585\n",
      "[175]\tvalidation_0-logloss:0.39590\n",
      "[176]\tvalidation_0-logloss:0.39505\n",
      "[177]\tvalidation_0-logloss:0.39341\n",
      "[178]\tvalidation_0-logloss:0.39215\n",
      "[179]\tvalidation_0-logloss:0.39106\n",
      "[180]\tvalidation_0-logloss:0.38982\n",
      "[181]\tvalidation_0-logloss:0.38955\n",
      "[182]\tvalidation_0-logloss:0.38853\n",
      "[183]\tvalidation_0-logloss:0.38825\n",
      "[184]\tvalidation_0-logloss:0.38877\n",
      "[185]\tvalidation_0-logloss:0.38793\n",
      "[186]\tvalidation_0-logloss:0.38775\n",
      "[187]\tvalidation_0-logloss:0.38678\n",
      "[188]\tvalidation_0-logloss:0.38557\n",
      "[189]\tvalidation_0-logloss:0.38430\n",
      "[190]\tvalidation_0-logloss:0.38328\n",
      "[191]\tvalidation_0-logloss:0.38193\n",
      "[192]\tvalidation_0-logloss:0.38055\n",
      "[193]\tvalidation_0-logloss:0.37979\n",
      "[194]\tvalidation_0-logloss:0.37898\n",
      "[195]\tvalidation_0-logloss:0.37955\n",
      "[196]\tvalidation_0-logloss:0.37848\n",
      "[197]\tvalidation_0-logloss:0.37861\n",
      "[198]\tvalidation_0-logloss:0.37787\n",
      "[199]\tvalidation_0-logloss:0.37694\n",
      "[200]\tvalidation_0-logloss:0.37603\n",
      "[201]\tvalidation_0-logloss:0.37582\n",
      "[202]\tvalidation_0-logloss:0.37547\n",
      "[203]\tvalidation_0-logloss:0.37417\n",
      "[204]\tvalidation_0-logloss:0.37433\n",
      "[205]\tvalidation_0-logloss:0.37379\n",
      "[206]\tvalidation_0-logloss:0.37251\n",
      "[207]\tvalidation_0-logloss:0.37169\n",
      "[208]\tvalidation_0-logloss:0.37047\n",
      "[209]\tvalidation_0-logloss:0.36918\n",
      "[210]\tvalidation_0-logloss:0.36801\n",
      "[211]\tvalidation_0-logloss:0.36717\n",
      "[212]\tvalidation_0-logloss:0.36629\n",
      "[213]\tvalidation_0-logloss:0.36548\n",
      "[214]\tvalidation_0-logloss:0.36534\n",
      "[215]\tvalidation_0-logloss:0.36431\n",
      "[216]\tvalidation_0-logloss:0.36355\n",
      "[217]\tvalidation_0-logloss:0.36333\n",
      "[218]\tvalidation_0-logloss:0.36356\n",
      "[219]\tvalidation_0-logloss:0.36280\n",
      "[220]\tvalidation_0-logloss:0.36208\n",
      "[221]\tvalidation_0-logloss:0.36131\n",
      "[222]\tvalidation_0-logloss:0.36042\n",
      "[223]\tvalidation_0-logloss:0.36002\n",
      "[224]\tvalidation_0-logloss:0.35932\n",
      "[225]\tvalidation_0-logloss:0.35863\n",
      "[226]\tvalidation_0-logloss:0.35855\n",
      "[227]\tvalidation_0-logloss:0.35754\n",
      "[228]\tvalidation_0-logloss:0.35650\n",
      "[229]\tvalidation_0-logloss:0.35643\n",
      "[230]\tvalidation_0-logloss:0.35543\n",
      "[231]\tvalidation_0-logloss:0.35507\n",
      "[232]\tvalidation_0-logloss:0.35520\n",
      "[233]\tvalidation_0-logloss:0.35483\n",
      "[234]\tvalidation_0-logloss:0.35368\n",
      "[235]\tvalidation_0-logloss:0.35288\n"
     ]
    },
    {
     "name": "stdout",
     "output_type": "stream",
     "text": [
      "[236]\tvalidation_0-logloss:0.35178\n",
      "[237]\tvalidation_0-logloss:0.35072\n",
      "[238]\tvalidation_0-logloss:0.34961\n",
      "[239]\tvalidation_0-logloss:0.34885\n",
      "[240]\tvalidation_0-logloss:0.34792\n",
      "[241]\tvalidation_0-logloss:0.34732\n",
      "[242]\tvalidation_0-logloss:0.34644\n",
      "[243]\tvalidation_0-logloss:0.34559\n",
      "[244]\tvalidation_0-logloss:0.34475\n",
      "[245]\tvalidation_0-logloss:0.34491\n",
      "[246]\tvalidation_0-logloss:0.34448\n",
      "[247]\tvalidation_0-logloss:0.34449\n",
      "[248]\tvalidation_0-logloss:0.34477\n",
      "[249]\tvalidation_0-logloss:0.34459\n",
      "Stopping. Best iteration:\n",
      "[246]\tvalidation_0-logloss:0.34448\n",
      "\n"
     ]
    },
    {
     "data": {
      "text/plain": [
       "XGBClassifier(base_score=0.5, booster=None, colsample_bylevel=1,\n",
       "              colsample_bynode=1, colsample_bytree=0.8, gamma=0, gpu_id=-1,\n",
       "              importance_type='gain', interaction_constraints=None,\n",
       "              learning_rate=0.02, max_delta_step=0, max_depth=4,\n",
       "              min_child_weight=4, missing=nan, monotone_constraints=None,\n",
       "              n_estimators=600, n_jobs=6, nthread=6, num_parallel_tree=1,\n",
       "              objective='binary:logistic', random_state=27, reg_alpha=0,\n",
       "              reg_lambda=1, scale_pos_weight=5, seed=27, subsample=0.8,\n",
       "              tree_method=None, validate_parameters=False, verbosity=None)"
      ]
     },
     "execution_count": 6,
     "metadata": {},
     "output_type": "execute_result"
    }
   ],
   "source": [
    "from xgboost import XGBClassifier\n",
    "model = XGBClassifier(learning_rate =0.02, #0.01\n",
    "n_estimators=600,\n",
    "max_depth=4, \n",
    "min_child_weight=4,\n",
    "subsample=0.8, \n",
    "colsample_bytree=0.8,\n",
    "objective= 'binary:logistic', \n",
    "nthread=6,\n",
    "scale_pos_weight=5, \n",
    "seed=27)\n",
    "eval_set = [(X_val_scale, y_val)]\n",
    "model.fit(X_train_scale, y_train, early_stopping_rounds=3, eval_metric=\"logloss\", eval_set=eval_set,verbose=True)"
   ]
  },
  {
   "cell_type": "markdown",
   "metadata": {},
   "source": [
    "# Evaluation \n",
    "\n",
    "- Precision, Recall"
   ]
  },
  {
   "cell_type": "code",
   "execution_count": 8,
   "metadata": {},
   "outputs": [
    {
     "name": "stdout",
     "output_type": "stream",
     "text": [
      "              precision    recall  f1-score   support\n",
      "\n",
      "           0       0.96      0.66      0.78     56438\n",
      "           1       0.74      0.97      0.84     56637\n",
      "\n",
      "    accuracy                           0.81    113075\n",
      "   macro avg       0.85      0.81      0.81    113075\n",
      "weighted avg       0.85      0.81      0.81    113075\n",
      "\n",
      "Accuracy of rf classifier on test set: 0.81\n",
      "AUC of rf classifier on test set 0.8140432734317168\n"
     ]
    }
   ],
   "source": [
    "#imblance classes \n",
    "y_pred = model.predict(X_test_scale)\n",
    "print(classification_report(y_test, y_pred))\n",
    "\n",
    "print('Accuracy of rf classifier on test set: {:.2f}'.format(model.score(X_test_scale, y_test)))\n",
    "print(\"AUC of rf classifier on test set\", roc_auc_score(y_test, y_pred))"
   ]
  },
  {
   "cell_type": "code",
   "execution_count": 15,
   "metadata": {},
   "outputs": [
    {
     "data": {
      "text/plain": [
       "['GBM_final_joblib.dat']"
      ]
     },
     "execution_count": 15,
     "metadata": {},
     "output_type": "execute_result"
    }
   ],
   "source": [
    "from joblib import dump\n",
    "from joblib import load\n",
    "\n",
    "dump(model, \"GBM_final_joblib.dat\")\n",
    "#print(\"Saved model to: credit_risk_joblib.dat\")\n",
    " \n",
    "# some time later...\n",
    " \n",
    "## load model from file\n",
    "#loaded_model = load(\"credit_risk_joblib.dat\")"
   ]
  },
  {
   "cell_type": "markdown",
   "metadata": {},
   "source": [
    "# Model Tuning  \n",
    "\n",
    "- Random Grid Search "
   ]
  },
  {
   "cell_type": "code",
   "execution_count": 9,
   "metadata": {},
   "outputs": [],
   "source": [
    "from sklearn.model_selection import cross_validate\n",
    "from sklearn import model_selection\n",
    "from sklearn.model_selection import KFold\n",
    "from sklearn.model_selection import RandomizedSearchCV\n",
    "from scipy.stats import uniform\n",
    "\n",
    "clf_xgb = XGBClassifier(objective = 'binary:logistic', early_stopping_rounds=3, eval_metric=\"logloss\", eval_set=eval_set)\n",
    "param_dist = {'n_estimators': [600, 800],\n",
    "              'learning_rate': list(np.logspace(np.log10(0.005), np.log10(0.5), base = 10, num = 1000)),\n",
    "              'subsample': [0.3,0.8, 0.9],\n",
    "              'max_depth': [3, 4, 5, 6, 7, 8, 9],\n",
    "              'colsample_bytree': list(np.linspace(0.6, 1, 10)),\n",
    "              'min_child_weight': [1, 2, 3, 4,5,6],\n",
    "              'scale_pos_weight': [5],\n",
    "              'nthread':[6]\n",
    "             }\n",
    "\n",
    "\n",
    "kf = KFold(n_splits=2)\n",
    "kfold_5=kf.split(x)\n",
    "\n",
    "\n",
    "clf = RandomizedSearchCV(clf_xgb, param_dist,n_iter=4,verbose=1,cv=3, n_jobs = 5)\n"
   ]
  },
  {
   "cell_type": "code",
   "execution_count": 10,
   "metadata": {},
   "outputs": [
    {
     "name": "stdout",
     "output_type": "stream",
     "text": [
      "Fitting 3 folds for each of 4 candidates, totalling 12 fits\n"
     ]
    },
    {
     "name": "stderr",
     "output_type": "stream",
     "text": [
      "[Parallel(n_jobs=5)]: Using backend LokyBackend with 5 concurrent workers.\n",
      "[Parallel(n_jobs=5)]: Done  12 out of  12 | elapsed: 126.0min finished\n",
      "D:\\conda\\lib\\site-packages\\sklearn\\preprocessing\\_label.py:235: DataConversionWarning: A column-vector y was passed when a 1d array was expected. Please change the shape of y to (n_samples, ), for example using ravel().\n",
      "  y = column_or_1d(y, warn=True)\n",
      "D:\\conda\\lib\\site-packages\\sklearn\\preprocessing\\_label.py:268: DataConversionWarning: A column-vector y was passed when a 1d array was expected. Please change the shape of y to (n_samples, ), for example using ravel().\n",
      "  y = column_or_1d(y, warn=True)\n"
     ]
    }
   ],
   "source": [
    "#X_train.columns = [\"\".join (c if c.isalnum() else \"_\" for c in str(x)) for x in X_train.columns]\n",
    "\n",
    "#X_test.columns = [\"\".join (c if c.isalnum() else \"_\" for c in str(x)) for x in X_train.columns]\n",
    "search =clf.fit(X_train_scale, y_train,verbose=True)\n"
   ]
  },
  {
   "cell_type": "code",
   "execution_count": null,
   "metadata": {},
   "outputs": [],
   "source": [
    "#imblance classes \n",
    "y_pred = search.predict(X_test_scale)\n",
    "from sklearn.metrics import classification_report\n",
    "print(classification_report(y_test, y_pred))\n",
    "print('Accuracy of rf classifier on test set: {:.2f}'.format(search.score(X_test_scale, y_test)))\n",
    "from sklearn.metrics import roc_auc_score\n",
    "print(\"AUC of rf classifier on test set\", roc_auc_score(y_test, y_pred))"
   ]
  },
  {
   "cell_type": "code",
   "execution_count": null,
   "metadata": {},
   "outputs": [],
   "source": []
  },
  {
   "cell_type": "code",
   "execution_count": 5,
   "metadata": {},
   "outputs": [],
   "source": [
    "#from joblib import dump\n",
    "#from joblib import load\n",
    "\n",
    "#dump(search, \"credit_risk__random_serach_joblib.dat\")\n",
    "#print(\"Saved model to: credit_risk_joblib.dat\")\n",
    " \n",
    "# some time later...\n",
    " \n",
    "## load model from file\n",
    "#loaded_model = load(\"credit_risk_joblib.dat\")"
   ]
  },
  {
   "cell_type": "code",
   "execution_count": null,
   "metadata": {},
   "outputs": [],
   "source": []
  }
 ],
 "metadata": {
  "kernelspec": {
   "display_name": "Python 3",
   "language": "python",
   "name": "python3"
  },
  "language_info": {
   "codemirror_mode": {
    "name": "ipython",
    "version": 3
   },
   "file_extension": ".py",
   "mimetype": "text/x-python",
   "name": "python",
   "nbconvert_exporter": "python",
   "pygments_lexer": "ipython3",
   "version": "3.7.4"
  }
 },
 "nbformat": 4,
 "nbformat_minor": 2
}
