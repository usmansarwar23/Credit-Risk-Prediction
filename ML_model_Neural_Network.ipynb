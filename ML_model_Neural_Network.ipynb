{
 "cells": [
  {
   "cell_type": "code",
   "execution_count": 1,
   "metadata": {},
   "outputs": [
    {
     "name": "stderr",
     "output_type": "stream",
     "text": [
      "\n",
      "Bad key \"text.kerning_factor\" on line 4 in\n",
      "D:\\conda\\lib\\site-packages\\matplotlib\\mpl-data\\stylelib\\_classic_test_patch.mplstyle.\n",
      "You probably need to get an updated matplotlibrc file from\n",
      "https://github.com/matplotlib/matplotlib/blob/v3.1.3/matplotlibrc.template\n",
      "or from the matplotlib source distribution\n"
     ]
    }
   ],
   "source": [
    "import pandas as pd\n",
    "import matplotlib.pyplot as plt\n",
    "import numpy as np\n",
    "from sklearn.model_selection import train_test_split\n",
    "from xgboost import XGBClassifier\n",
    "from sklearn import preprocessing\n",
    "from tensorflow.keras.models import Sequential\n",
    "from tensorflow.keras.layers import Dense\n",
    "from tensorflow.keras.layers import Dropout\n",
    "from tensorflow.keras.callbacks import EarlyStopping"
   ]
  },
  {
   "cell_type": "code",
   "execution_count": 2,
   "metadata": {},
   "outputs": [],
   "source": [
    "#reading the preprocessed dataset\n",
    "x=pd.read_csv('x.csv')\n",
    "y=pd.read_csv('y.csv')"
   ]
  },
  {
   "cell_type": "markdown",
   "metadata": {},
   "source": [
    "# Data Normalization\n"
   ]
  },
  {
   "cell_type": "code",
   "execution_count": 3,
   "metadata": {},
   "outputs": [],
   "source": [
    "#splitting data into test train\n",
    "X_train, X_test, y_train, y_test = train_test_split(x, y, test_size=0.20)\n",
    "X_train, X_val, y_train, y_val  = train_test_split(X_train, y_train, test_size=0.20) # 0.25 x 0.8 = 0.2"
   ]
  },
  {
   "cell_type": "code",
   "execution_count": 4,
   "metadata": {},
   "outputs": [],
   "source": [
    "\n",
    "#Min-max Data normalization\n",
    "min_max_scaler = preprocessing.MinMaxScaler()\n",
    "X_train_scale = min_max_scaler.fit_transform(X_train)\n",
    "X_val_scale = min_max_scaler.fit_transform(X_val)\n",
    "X_test_scale = min_max_scaler.fit_transform(X_test)"
   ]
  },
  {
   "cell_type": "markdown",
   "metadata": {},
   "source": [
    "# Modeling \n"
   ]
  },
  {
   "cell_type": "code",
   "execution_count": 6,
   "metadata": {
    "scrolled": true
   },
   "outputs": [],
   "source": [
    "\n",
    "#from tensorflow.keras.optimizers import Lookahead\n",
    "\n",
    "n_hidden1 = 135\n",
    "n_hidden2 = 128\n",
    "n_hidden3 = 64\n",
    "n_hidden4 = 32\n",
    "\n",
    "# create model\n",
    "model = Sequential()\n",
    "\n",
    "model.add(Dense(n_hidden1, input_dim=X_train_scale.shape[1], activation='relu'))\n",
    "#model.add(Dense(256, activation='relu'))\n",
    "\n",
    "model.add(Dense(n_hidden2, activation='relu'))\n",
    "model.add(Dense(n_hidden3, activation='relu'))\n",
    "model.add(Dense(n_hidden4, activation='relu'))\n",
    "\n",
    "model.add(Dropout(0.5))\n",
    "\n",
    "#model.add(Dense(256, activation='relu'))\n",
    "model.add(Dense(n_hidden2, activation='relu'))\n",
    "model.add(Dense(n_hidden3, activation='relu'))\n",
    "model.add(Dense(n_hidden4, activation='relu'))\n",
    "\n",
    "model.add(Dropout(0.5))\n",
    "#model.add(Dense(256, activation='relu'))\n",
    "model.add(Dense(n_hidden2, activation='relu'))\n",
    "model.add(Dense(n_hidden3, activation='relu'))\n",
    "model.add(Dense(n_hidden4, activation='relu'))\n",
    "\n",
    "model.add(Dropout(0.5))\n",
    "\n",
    "model.add(Dense(1, activation='sigmoid'))\n"
   ]
  },
  {
   "cell_type": "code",
   "execution_count": null,
   "metadata": {},
   "outputs": [],
   "source": []
  },
  {
   "cell_type": "code",
   "execution_count": 10,
   "metadata": {
    "scrolled": false
   },
   "outputs": [
    {
     "name": "stdout",
     "output_type": "stream",
     "text": [
      "Train on 361837 samples, validate on 90460 samples\n",
      "Epoch 1/50\n",
      "361837/361837 [==============================] - 63s 174us/sample - loss: 0.3684 - accuracy: 0.8353 - val_loss: 0.2836 - val_accuracy: 0.8930\n",
      "Epoch 2/50\n",
      "361837/361837 [==============================] - 57s 157us/sample - loss: 0.2551 - accuracy: 0.8974 - val_loss: 0.2428 - val_accuracy: 0.9068\n",
      "Epoch 3/50\n",
      "361837/361837 [==============================] - 67s 184us/sample - loss: 0.2286 - accuracy: 0.9111 - val_loss: 0.2171 - val_accuracy: 0.9227\n",
      "Epoch 4/50\n",
      "361837/361837 [==============================] - 54s 149us/sample - loss: 0.2141 - accuracy: 0.9188 - val_loss: 0.5524 - val_accuracy: 0.7027\n",
      "Epoch 5/50\n",
      "361837/361837 [==============================] - 86s 239us/sample - loss: 0.2038 - accuracy: 0.9237 - val_loss: 0.2126 - val_accuracy: 0.9249\n",
      "Epoch 6/50\n",
      "361837/361837 [==============================] - 87s 241us/sample - loss: 0.2003 - accuracy: 0.9255 - val_loss: 0.2769 - val_accuracy: 0.8878\n",
      "Epoch 7/50\n",
      "361837/361837 [==============================] - 95s 262us/sample - loss: 0.2041 - accuracy: 0.9268 - val_loss: 0.2856 - val_accuracy: 0.8882\n",
      "Epoch 8/50\n",
      "361837/361837 [==============================] - 93s 257us/sample - loss: 0.2006 - accuracy: 0.9287 - val_loss: 0.3202 - val_accuracy: 0.8641\n"
     ]
    },
    {
     "data": {
      "text/plain": [
       "<tensorflow.python.keras.callbacks.History at 0x13a47e3de48>"
      ]
     },
     "execution_count": 10,
     "metadata": {},
     "output_type": "execute_result"
    }
   ],
   "source": [
    "callbacks = [EarlyStopping(monitor='val_loss', patience=3)]\n",
    "\n",
    "model.compile(loss='binary_crossentropy', optimizer='adam', metrics=['accuracy'])\n",
    "# Fit the model\n",
    "\n",
    "\n",
    "model.fit(X_train_scale, np.array(y_train), epochs=50, batch_size=20, callbacks=callbacks,validation_data=(X_val_scale, np.array(y_val)))"
   ]
  },
  {
   "cell_type": "code",
   "execution_count": 12,
   "metadata": {},
   "outputs": [
    {
     "name": "stdout",
     "output_type": "stream",
     "text": [
      "WARNING:tensorflow:From D:\\conda\\lib\\site-packages\\tensorflow_core\\python\\ops\\resource_variable_ops.py:1781: calling BaseResourceVariable.__init__ (from tensorflow.python.ops.resource_variable_ops) with constraint is deprecated and will be removed in a future version.\n",
      "Instructions for updating:\n",
      "If using Keras pass *_constraint arguments to layers.\n",
      "INFO:tensorflow:Assets written to: NN_final\\assets\n"
     ]
    }
   ],
   "source": [
    "model.save('NN_final')"
   ]
  },
  {
   "cell_type": "markdown",
   "metadata": {},
   "source": [
    "# Evaluation \n",
    "\n",
    "- Precision, Recall"
   ]
  },
  {
   "cell_type": "code",
   "execution_count": 11,
   "metadata": {},
   "outputs": [
    {
     "name": "stdout",
     "output_type": "stream",
     "text": [
      "              precision    recall  f1-score   support\n",
      "\n",
      "           0       0.94      0.74      0.82     56529\n",
      "           1       0.78      0.95      0.86     56546\n",
      "\n",
      "    accuracy                           0.84    113075\n",
      "   macro avg       0.86      0.84      0.84    113075\n",
      "weighted avg       0.86      0.84      0.84    113075\n",
      "\n",
      "AUC of rf classifier on test set 0.9668039872777481\n"
     ]
    }
   ],
   "source": [
    "#imblance classes \n",
    "y_pred = model.predict(X_test_scale)\n",
    "from sklearn.metrics import classification_report\n",
    "print(classification_report(y_test, y_pred.round()))\n",
    "#print('Accuracy of rf classifier on test set: {:.2f}'.format(model.score(X_test_scale, y_test)))\n",
    "from sklearn.metrics import roc_auc_score\n",
    "print(\"AUC of rf classifier on test set\", roc_auc_score(y_test, y_pred))"
   ]
  },
  {
   "cell_type": "code",
   "execution_count": null,
   "metadata": {},
   "outputs": [],
   "source": []
  },
  {
   "cell_type": "code",
   "execution_count": null,
   "metadata": {},
   "outputs": [],
   "source": []
  }
 ],
 "metadata": {
  "kernelspec": {
   "display_name": "Python 3",
   "language": "python",
   "name": "python3"
  },
  "language_info": {
   "codemirror_mode": {
    "name": "ipython",
    "version": 3
   },
   "file_extension": ".py",
   "mimetype": "text/x-python",
   "name": "python",
   "nbconvert_exporter": "python",
   "pygments_lexer": "ipython3",
   "version": "3.7.4"
  }
 },
 "nbformat": 4,
 "nbformat_minor": 2
}
